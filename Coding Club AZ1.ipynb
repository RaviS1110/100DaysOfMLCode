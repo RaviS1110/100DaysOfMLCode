{
  "nbformat": 4,
  "nbformat_minor": 0,
  "metadata": {
    "colab": {
      "name": "Untitled0.ipynb",
      "provenance": [],
      "collapsed_sections": [],
      "authorship_tag": "ABX9TyPwcrnjn1dBS4ixQnYZKNSu",
      "include_colab_link": true
    },
    "kernelspec": {
      "name": "python3",
      "display_name": "Python 3"
    }
  },
  "cells": [
    {
      "cell_type": "markdown",
      "metadata": {
        "id": "view-in-github",
        "colab_type": "text"
      },
      "source": [
        "<a href=\"https://colab.research.google.com/github/RaviS1110/100DaysOfMLCode/blob/master/Coding%20Club%20AZ1.ipynb\" target=\"_parent\"><img src=\"https://colab.research.google.com/assets/colab-badge.svg\" alt=\"Open In Colab\"/></a>"
      ]
    },
    {
      "cell_type": "code",
      "metadata": {
        "id": "z950d2sIZwaV",
        "colab_type": "code",
        "colab": {
          "base_uri": "https://localhost:8080/",
          "height": 52
        },
        "outputId": "3b74ae6e-645b-4037-ad3a-2bde23a7cc53"
      },
      "source": [
        "print(\" Hi\") \n",
        "a=5**2\n",
        "print ( \"value of a:\", a)"
      ],
      "execution_count": 13,
      "outputs": [
        {
          "output_type": "stream",
          "text": [
            " Hi\n",
            "value of a: 25\n"
          ],
          "name": "stdout"
        }
      ]
    },
    {
      "cell_type": "code",
      "metadata": {
        "id": "KjOgcHakbI3I",
        "colab_type": "code",
        "colab": {
          "base_uri": "https://localhost:8080/",
          "height": 35
        },
        "outputId": "7645f741-270a-404e-d8fe-ba5a92b258aa"
      },
      "source": [
        "a=(512*126)/24\n",
        "print (a)"
      ],
      "execution_count": 15,
      "outputs": [
        {
          "output_type": "stream",
          "text": [
            "2688.0\n"
          ],
          "name": "stdout"
        }
      ]
    },
    {
      "cell_type": "code",
      "metadata": {
        "id": "II5Nt_EocoYO",
        "colab_type": "code",
        "colab": {
          "base_uri": "https://localhost:8080/",
          "height": 35
        },
        "outputId": "9dfab3d8-2428-4d4e-8d98-8295c70668e7"
      },
      "source": [
        "a=(512*126)//24\n",
        "print (a)"
      ],
      "execution_count": 16,
      "outputs": [
        {
          "output_type": "stream",
          "text": [
            "2688\n"
          ],
          "name": "stdout"
        }
      ]
    },
    {
      "cell_type": "code",
      "metadata": {
        "id": "cPjcpIPJc2q0",
        "colab_type": "code",
        "colab": {
          "base_uri": "https://localhost:8080/",
          "height": 35
        },
        "outputId": "66680d35-ebc2-4270-dfb3-c2b078a96dca"
      },
      "source": [
        "print(\"512 x 126/24:\",512*126/24)"
      ],
      "execution_count": 18,
      "outputs": [
        {
          "output_type": "stream",
          "text": [
            "512 x 126/24: 2688.0\n"
          ],
          "name": "stdout"
        }
      ]
    },
    {
      "cell_type": "code",
      "metadata": {
        "id": "KKBDQOGKdp1d",
        "colab_type": "code",
        "colab": {
          "base_uri": "https://localhost:8080/",
          "height": 35
        },
        "outputId": "49901bb6-105d-424c-a774-629c8b6effcf"
      },
      "source": [
        "My_Name=\"Ravi\"\n",
        "Age=35\n",
        "print(My_Name,\"'s age is\",Age)"
      ],
      "execution_count": 21,
      "outputs": [
        {
          "output_type": "stream",
          "text": [
            "Ravi 's age is 35\n"
          ],
          "name": "stdout"
        }
      ]
    },
    {
      "cell_type": "code",
      "metadata": {
        "id": "pS51IFCweHsq",
        "colab_type": "code",
        "colab": {
          "base_uri": "https://localhost:8080/",
          "height": 69
        },
        "outputId": "7b2d1ba7-9ca6-4c96-aa12-c2aaff0f2dec"
      },
      "source": [
        "My_Name=\"Ravi\"\n",
        "Age=35\n",
        "#print(My_Name,\"after five year my age will be\",Age+5)\n",
        "print(My_Name,\"'s age after 5 yesrs will be\",Age+5)\n",
        "\n",
        "print(type(Age))\n",
        "type(Age)"
      ],
      "execution_count": 28,
      "outputs": [
        {
          "output_type": "stream",
          "text": [
            "Ravi 's age after 5 yesrs will be 40\n",
            "<class 'int'>\n"
          ],
          "name": "stdout"
        },
        {
          "output_type": "execute_result",
          "data": {
            "text/plain": [
              "int"
            ]
          },
          "metadata": {
            "tags": []
          },
          "execution_count": 28
        }
      ]
    },
    {
      "cell_type": "code",
      "metadata": {
        "id": "adT9QGdLgMrc",
        "colab_type": "code",
        "colab": {
          "base_uri": "https://localhost:8080/",
          "height": 35
        },
        "outputId": "ed281f88-85ab-422b-a821-cd9a68122d09"
      },
      "source": [
        "initila_value=5\n",
        "initila_value_5times=initila_value*5\n",
        "print (\"Initial value:\",initila_value,\" initila_value_5times:\",initila_value_5times )"
      ],
      "execution_count": 33,
      "outputs": [
        {
          "output_type": "stream",
          "text": [
            "Initial value: 5  initila_value_5times: 25\n"
          ],
          "name": "stdout"
        }
      ]
    },
    {
      "cell_type": "code",
      "metadata": {
        "id": "zv3g5i1jg3N-",
        "colab_type": "code",
        "colab": {
          "base_uri": "https://localhost:8080/",
          "height": 35
        },
        "outputId": "74738637-fc7d-4629-bf8b-a94011fe6853"
      },
      "source": [
        "a=\"HI \"* 5\n",
        "print (a)"
      ],
      "execution_count": 36,
      "outputs": [
        {
          "output_type": "stream",
          "text": [
            "HI HI HI HI HI \n"
          ],
          "name": "stdout"
        }
      ]
    },
    {
      "cell_type": "code",
      "metadata": {
        "id": "0bYBAsxXhCXU",
        "colab_type": "code",
        "colab": {
          "base_uri": "https://localhost:8080/",
          "height": 35
        },
        "outputId": "13927d89-2e1c-4171-94bb-ffcb40eba634"
      },
      "source": [
        "x=2\n",
        "y=x\n",
        "x=3\n",
        "print(y)"
      ],
      "execution_count": 1,
      "outputs": [
        {
          "output_type": "stream",
          "text": [
            "2\n"
          ],
          "name": "stdout"
        }
      ]
    }
  ]
}